{
 "cells": [
  {
   "cell_type": "markdown",
   "metadata": {},
   "source": [
    "# Movie Review Analysis Outline\n",
    "## import necessary python libraries\n"
   ]
  },
  {
   "cell_type": "code",
   "execution_count": null,
   "metadata": {
    "collapsed": true
   },
   "outputs": [],
   "source": []
  },
  {
   "cell_type": "markdown",
   "metadata": {},
   "source": [
    "## Import the Data\n",
    "## Clean up Data (extract data we need (i.e. stars, and perhaps text of review)"
   ]
  },
  {
   "cell_type": "code",
   "execution_count": 17,
   "metadata": {
    "collapsed": false
   },
   "outputs": [
    {
     "name": "stdout",
     "output_type": "stream",
     "text": [
      "[[u'productId', u'userId', u'profileName', u'helpfulness', u'score', u'time', u'summary', u'text'], [u'B0078V2LCY', u'A39M64IZTC04G0', u'David W. Deyerle', u'0', u'0', u'4.0', u'1344816000', u'My Kingdom', u'Very good movie. And unlike many Chinese movies, it does not have a totally sad ending where everyone, especially the hero, gets killed!'], [u'B0078V2LCY', u'A27H9DOUGY9FOS', u'K. Harris \"Film aficionado\"', u'1', u'1', u'3.0', u'1327968000', u'A Lavish Chinese Production That Ends Up Being A Soapy (And Pretty Loopy) Revenge Drama', u'I had heard a lot of criticism leveled at Gao Xiaosong\\'s \"My Kingdom\" complaining that its two disparate halves never really fit together into a cohesive narrative. The first part of the film strains for epic grandeur with its story of two orphans being trained in the art and honor of the Chinese opera (not the singing kind). One of the boys sees his family slaughtered in a political maneuver but is saved from imminent death by a wandering opera master and his charge. The three form a offbeat family unit which is threatened when their master is humiliated in a challenge with a Southern rival. The movie fast forwards until the boys are grown and ready to seek a form of retribution as they move into the popular Shanghai opera scene in the twenties. After this simple story is resolved, the second half of the film becomes a loopy bit of revenge fantasy. The screenplay twists and turns as secrets are revealed, implausibilities mount up, and characters have their ulterior motives exposed. It is chaotic (and tries way too hard), but at least it\\'s fun.<br ', u'><br ', u'>Many who have unfavorably judged \"My Kingdom\" tend to proclaim the first half as brilliant and the second half as the weak link. I, however, tend to disagree. I thought that the introductory premise was so thin and contrived that I never bought into the dramatic substance of the plot. Heck, two seconds after the boys arrive in Shanghai, they are greeted by a street parade extolling an upcoming performance of the man who bested their adoptive father 15 years previously. Hey, that was simple. These two vagabonds issue a challenge to the opera superstar that somehow gets newspaper coverage and makes them headliners in a opera duel. Hey, that was simple too. Now they are legends! Wow, that\\'s a lot for their first day in town! After the duel, the boys must integrate themselves within the existing opera company that includes a defiant leading lady. As one steps into the spotlight and an illicit affair, the other seeks to avenge his family\\'s murder from so many years ago. The remainder of the film plays as a twisty thriller that never feels particularly real. But as the convoluted plotting wraps around itself, I must admit to being amused by it all. It, for me, was far more entertaining than what had preceded it.<br ', u'><br ', u'>The movie itself is elaborately staged. The battle sequences and opera numbers have a pleasing over-the-top quality. 1920\\'s Shanghai is lush and gorgeous and the costuming is memorable. However, it all feels a little flat. The leads are attractive enough, but they lack a gravitas to convince us they can headline an intended epic. I understand they are known pop stars in their country, and that makes sense. The actor who plays a diabolical police investigator seems like he\\'s about twelve and downplays the drama out of every scene. Ultimately, I think \"My Kingdom\" tries to accomplish too much. I personally wish they would have committed to making it an adult soap opera with no pretensions other than to entertain. As is, it\\'s a bit of a mess. I probably liked it for the wrong reasons, but its loopiness is not without its charms. KGHarris, 1', u'12.'], [u'B0071AD95K', u'AOIT2QUH8GRGA', u\"Ryan's mom\", u'3', u'3', u'5.0', u'1288569600', u'Very inspiring!  Great for teenagers and young adults.', u'The whole Passion Series is life changing, a must have for any Christian household that has teenagers and young adults.  Louie has wonderful approach to teaching about the magnificence of God, the Creater of Heaven and Earth!  My  16 year old niece was so impressed and awe-struck after viewing \"How Great is Our God\" and \"Indescribable\" that she ended up taking the whole series home with her to share with all her friends.  Needless to say, I let her keep them and purchased a new series for myself. I am going to be showing my Bible study group \"How Great is Our God\" tonight as we have a skeptic in our group.  I know this video will dispel any doubts she may have about God!  The \"Hope\" video is equally inspiring in a different way, more focused on real life rather than creation.  It is a compliment to the \"Fruitcake and Ice Cream\" video which deals with a real life story of a young college student who comes to know Christ.'], [u'B0071AD95K', u'AA72A0AYTWV5Y', u'fjiewofjeiwo', u'5', u'5', u'5.0', u'1283299200', u'HOPE', u'Although this movie is broke up into two different parts, it was very good.  Since the movie was done in two parts, the second one repeats a lot as if one was not there to view the first part.  I did not like that at all.  The point to this movie is really good.  I\\'m actually going to send it to someone that has held \"life\" against God.  This is an excellent ministering tool!!'], [u'B0071AD95K', u'A3ENN12GLNTUAF', u'J. Kennel \"marriagefanatic\"', u'1', u'1', u'5.0', u'1274745600', u'Terrific DVD for anyone suffering', u'This DVD is the third in the Passion 2006 series done by Louie Giglio.  The four videos go in order, so it is helpful to see them in order to follow the story throughout all of them.  However, having said that, this is still a very moving presentation about pain, suffering, and hope.  I would recommend this for high school and older, for Christians and non-Christians.<br ', u'><br ', u'>You can watch this with someone who is suffering, and no one has to say a word at the end.  It is not intrusive or offensive, but is comforting because it is about the God who is truly big enough to comfort anyone in the worst circumstances in life.  And everyone experiences them at some point.  With this Hope presentation, and with all of them in the series, you definitely will sense that God does the supernatural \"heavy lifting\" that no human possibly can.<br ', u'><br ', u'>Excellent for mentoring teens and older.  The audience in the video is largely college age.  Highly recommended!'], [u'B0071AD95K', u'A31YQQYX9PU04Z', u'Stranger in the land', u'0', u'0', u'4.0', u'1323043200', u'Great encouragement', u\"Great encouragement on the intricate involvement in the lives of people. I actually sent the DVD's to friends going through challenges with their 17 year old son who has left home.\"], [u'B0071AD95K', u'A2OKCS5234ZV7S', u'Flower', u'4', u'6', u'5.0', u'1267401600', u'Wow.............', u'This is an awesome addition to your movie collection!... A great tool to use to witness to others. All four are great and I think that you need all four. We own all four and even our children are interested in the series. They even repeat things that are stated in the serious. We are all amazed at the topics and images. You will have to see this for yourself. If you have viewed any of the others, Hope is a must view as well. There really are not any words to describe the experience of viewing Hope. Also there is no statement that can tell you the experience of owning all four to share with others. You never know when you may encounter someone who may need what is in this series and you to can use this series to win souls, and bring someone out of the darkness and into the light.<br ', u'><br ', u\">Our souls have truly been blessed by this series... we plan to bless others when they visit us with this series. Go ahead and Bless yourself, family, and friends with this awesome series, make sure you get all four and view them all. We tried to view them in the order that they are listed inside of the dvd. I don't know if it matters, as it is just what we did. Now we are waiting on the Blind side to come out.. Enjoy! You won't be the same! A treat for the whole family, friends, church family, and the neighborhood! Don't forget the popcorn! We use the crazy popcorn popper it is awesome with movies or without!<br \", u'><br ', u'>This is one series that we are glad we did not pass by... all cultures will and should enjoy this!<br ', u'><br ', u'>Always watch what you do and say to others as you never know what they are going through, or the impact you will have on them, and you never know who you are entertaining.<br ', u'><br ', u'>Keep up the Good Work Louie Giglio!'], [u'B0071AD95K', u'A2D595HNMO9PHR', u'Stephen', u'1', u'1', u'5.0', u'1287187200', u'Exceptional', u'This is an amazing video for those who are suffering. When life hurts most, when the bottom falls out, when tragedy strikes I need to know, \"Is there still hope for me?\" Louie answers a resounding YES. He explores the topic of suffering better than anyone I\\'ve heard. I was deeply inspired by this two-part video series. I recommend you buy it if you\\'re hurting.'], [u'B0071AD95K', u'A2BTR8ZO8MB01D', u'Eric Lessner \"Eric0118\"', u'0', u'0', u'5.0', u'1276387200', u'Extremely Inspisrational', u'Louie has some of the most inspirational an thought provoking sermons I have ever heard. He is truly anointed!'], [u'B0071AD95K', u'A1MXSUEA3ZK5UZ', u'Darryl M. Cue', u'0', u'0', u'5.0', u'1346457600', u'Ouar only Hope', u\"This two part video tells where our only Hope lies, in Jesus Christ.  Louis is a great communicator who uses stories about real people and the Word of God to point out our only hope when difficulties in life arise, and they will.  It is a great resource for encouragement when life's hurts hit.  I recommend it to anyone, believer in Christ or not.\"], [u'B0071AD95K', u'A13NO1WIGJZUV4', u'J. A. Handford', u'4', u'4', u'5.0', u'1295136000', u'Finding Hope in the face of loss', u\"This DVD was very helpful for those who had lost a loved one in our family of faith. It was able to show that we are not alone in our loss or pain and that while our loved ones are gone from here --- they are still with us in spirit. It made our faith stronger and brought our family closer together in God's love. Louie Giglio is a Christian who's spirit sends a loving message from his heart.\"], [u'B006JIUN2W', u'A44YJ6ZLTMAR6', u'Manoj Sharma', u'1', u'1', u'5.0', u'1335312000', u'Deep, wide-ranging Phonics coverage', u'This video covers phonics to a deep extent, and may be a little too much for beginners.<br ', u'>Mouth movement is included, and is an extremely useful learning tool. Occasionally, however, they just show the lip movement without showing pictures of the object corresponding to the word.<br ', u'>Nevertheless, my son is a fast learner so it worked out perfectly for us. A hidden gem.'], [u'B004BH1TN0', u'AWPODHOB4GFWL', u'Martin A Hogan \"Marty From SF\"', u'34', u'35', u'5.0', u'1012003200', u'As Crisp As A Live Recording Can Be', u\"Recording with an audience of less than 1,000, this DVD feels like a club recording with it's Dolby Ditigal and DTS audio sound.  Host Mark McEwen gushes a tad much and the 'Live by Request' gimmick is not original.  Still, it manages to captivate.  Fifteen songs (one a medley of eight), five being from the last album, it's a collection that defies the ear with the groups tight instrumentals and harmonies.  &quot;She Keep On Coming&quot; and &quot;You Should Be Dancing&quot; rock the house, while &quot;Sacred Trust&quot; and &quot;How Can You Mend A Broken Heart&quot; lull the audience into a trance.  This recording is unique in that there are plenty of star 'call-ins' and lots of joking around.  Its surprising to hear Barry sing, &quot;Woman In Love&quot;, but &quot;Nights On Broadway&quot; is, once again, cut far too short for a song that contains some of their best work.<p>This is as close as a great live recording gets and a DVD well worth owning.  &quot;One Night Only&quot; is a great live recording as well, but nothing matches the intimacy of this presentation.\"], [u'B004BH1TN0', u'AVV8PPI6BDKVA', u'\"utawwsexy\"', u'2', u'2', u'5.0', u'1030233600', u'THE BEE GEES RULE!!', u'I own this DVD, along with their \"One Night Only\" DVD, & I have to tell you--I love \\'em both!! They sound just as good (or better) as when they were younger--I play one after the other at times (there are a few new songs on \"This Is Where I Came In\") on my stereo, set for DTS--ohhhh the sound is INCREDIBLE!!  I catch myself \"boogie-ing\"(not sure how to spell that--sorry) constantly...I\\'m 31 years old & LOVE the Bee Gees!!  What more can I say? :)'], [u'B004BH1TN0', u'AUQW6UEZFC7B2', u'Country Woman', u'0', u'0', u'5.0', u'1051228800', u'Wonderful!', u'I have been a Bee Gees fan for years.  It is really wonderful to see them again.  I love the songs from the new album &quot;This is Where I In&quot;.  It is really great to hear Maurice take the lead in two of the songs, &quot;Man in the Middle&quot; and &quot;Walking on Air&quot;.  While Barry and Robin have beautiful voices, I really enjoy listening to Maurice sing. After all these years, it is really great to see and hear the joy they still get from their music and from preforming together.<br ', u\">While precious minutes of the show were taken up with requests, it was still nice to see their interaction with the fans.  I think anyone who is a fan of Barry, Robin and Maurice will enjoy this video.  I have watched it over and over.  It is really sad that we won't have the chance to see the three of them together like this again.\"], [u'B004BH1TN0', u'A9Q28YTLYREO7', u'A customer \"mistermaxxx\"', u'2', u'2', u'4.0', u'1033776000', u'Good Set', u\"of course it's really good to hear all the Bee Gees Jams on a Album but live is even better.the only down side is the fact that some of the songs are done in Medley form&that kinda leaves it just there overall to me.but all in all this is a real good show&performance.\"], [u'B004BH1TN0', u'A39I79H1A2A8C3', u'Irving Faqua', u'0', u'0', u'4.0', u'1246233600', u'Plugging new album', u'Kind of bogus request.  Too much of their newest material.<br ', u'>Get the One Night Only!'], [u'B004BH1TN0', u'A2WFI5XFB7NHHJ', u'M. Chung \"music lover\"', u'0', u'0', u'4.0', u'1168819200', u'bee gees fans enjoy', u'This is a fine performance by the Bee Gees who perform \"by request\", probably the most difficult format for live performers.  They play most of their songs and most fans might complain about various hits that were omitted.  Still an enjoyable performance.'], [u'B004BH1TN0', u'A2M4H4R4Z7UDZX', u'S. Lomax \"Shawna67\"', u'0', u'0', u'5.0', u'1243900800', u'Great Concert', u'I purchased two DVDs, one for my parents who are huge Bee Gee fans (they\\'re in their late 60s) and one for myself.  As African Americans our (my family) taste in music is culturally diverse and the Bee Gees are on the top of our lists.  This concert is a definite must see ranking right up there with their \"One Night Only\" concert.  Several songs on this DVD I\\'ve never heard before but they have become my favorites. The Bee Gees were very playful', u'silly', u'funny in this concert which was a treat to see that different aspect of the group.']]\n",
      "PythonRDD[60] at RDD at PythonRDD.scala:43\n",
      "1248\n"
     ]
    }
   ],
   "source": [
    "movies_txt = sc.textFile(\"output.txt\").map(lambda x: (x.split('/')))\n",
    "\n",
    "\n",
    "# parse and take care of funky symbols in summary and text <- normalize to root words maybe?\n",
    "def prepData (datapath):\n",
    "    pass\n"
   ]
  },
  {
   "cell_type": "markdown",
   "metadata": {},
   "source": [
    " "
   ]
  },
  {
   "cell_type": "code",
   "execution_count": null,
   "metadata": {
    "collapsed": true
   },
   "outputs": [],
   "source": []
  },
  {
   "cell_type": "markdown",
   "metadata": {},
   "source": [
    "## Divide into 2 datasets (one for training and one for testing) "
   ]
  },
  {
   "cell_type": "code",
   "execution_count": null,
   "metadata": {
    "collapsed": true
   },
   "outputs": [],
   "source": []
  },
  {
   "cell_type": "markdown",
   "metadata": {},
   "source": [
    "## Train classifier"
   ]
  },
  {
   "cell_type": "code",
   "execution_count": null,
   "metadata": {
    "collapsed": true
   },
   "outputs": [],
   "source": [
    "# train the classifier \n",
    "\n"
   ]
  },
  {
   "cell_type": "markdown",
   "metadata": {},
   "source": [
    "## Run classifier on testing set"
   ]
  },
  {
   "cell_type": "code",
   "execution_count": null,
   "metadata": {
    "collapsed": true
   },
   "outputs": [],
   "source": []
  }
 ],
 "metadata": {
  "kernelspec": {
   "display_name": "Python 2",
   "language": "python",
   "name": "python2"
  },
  "language_info": {
   "codemirror_mode": {
    "name": "ipython",
    "version": 2
   },
   "file_extension": ".py",
   "mimetype": "text/x-python",
   "name": "python",
   "nbconvert_exporter": "python",
   "pygments_lexer": "ipython2",
   "version": "2.7.6"
  }
 },
 "nbformat": 4,
 "nbformat_minor": 0
}
